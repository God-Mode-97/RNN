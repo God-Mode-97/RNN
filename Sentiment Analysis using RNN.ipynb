{
 "cells": [
  {
   "cell_type": "code",
   "execution_count": 1,
   "metadata": {},
   "outputs": [
    {
     "name": "stderr",
     "output_type": "stream",
     "text": [
      "Using TensorFlow backend.\n"
     ]
    }
   ],
   "source": [
    "from keras.preprocessing import sequence\n",
    "from keras.models import Sequential\n",
    "from keras.layers import Dense, Embedding\n",
    "from keras.layers import LSTM\n",
    "from keras.datasets import imdb"
   ]
  },
  {
   "cell_type": "code",
   "execution_count": 2,
   "metadata": {},
   "outputs": [
    {
     "name": "stdout",
     "output_type": "stream",
     "text": [
      "Downloading data from https://s3.amazonaws.com/text-datasets/imdb.npz\n",
      "17465344/17464789 [==============================] - 83s 5us/step\n"
     ]
    }
   ],
   "source": [
    "(X_train, y_train), (X_test, y_test) = imdb.load_data(num_words=20000)"
   ]
  },
  {
   "cell_type": "code",
   "execution_count": 17,
   "metadata": {},
   "outputs": [
    {
     "data": {
      "text/plain": [
       "1"
      ]
     },
     "execution_count": 17,
     "metadata": {},
     "output_type": "execute_result"
    }
   ],
   "source": [
    "y_train[0]"
   ]
  },
  {
   "cell_type": "code",
   "execution_count": 12,
   "metadata": {},
   "outputs": [],
   "source": [
    "X_train = sequence.pad_sequences(X_train, maxlen=80)\n",
    "X_test = sequence.pad_sequences(X_test, maxlen=80)"
   ]
  },
  {
   "cell_type": "code",
   "execution_count": 13,
   "metadata": {},
   "outputs": [],
   "source": [
    "model = Sequential()\n",
    "model.add(Embedding(20000, 128))\n",
    "model.add(LSTM(128, dropout=0.2, recurrent_dropout=0.2))\n",
    "model.add(Dense(1, activation='sigmoid'))"
   ]
  },
  {
   "cell_type": "code",
   "execution_count": 14,
   "metadata": {},
   "outputs": [],
   "source": [
    "model.compile(loss='binary_crossentropy', optimizer='adam', metrics=['accuracy'])"
   ]
  },
  {
   "cell_type": "code",
   "execution_count": 15,
   "metadata": {},
   "outputs": [
    {
     "name": "stdout",
     "output_type": "stream",
     "text": [
      "Train on 25000 samples, validate on 25000 samples\n",
      "Epoch 1/15\n",
      " - 109s - loss: 0.4618 - acc: 0.7807 - val_loss: 0.3850 - val_acc: 0.8309\n",
      "Epoch 2/15\n",
      " - 110s - loss: 0.3045 - acc: 0.8763 - val_loss: 0.3755 - val_acc: 0.8327\n",
      "Epoch 3/15\n",
      " - 110s - loss: 0.2183 - acc: 0.9147 - val_loss: 0.4110 - val_acc: 0.8287\n",
      "Epoch 4/15\n",
      " - 109s - loss: 0.1528 - acc: 0.9437 - val_loss: 0.4507 - val_acc: 0.8269\n",
      "Epoch 5/15\n",
      " - 109s - loss: 0.1073 - acc: 0.9614 - val_loss: 0.5795 - val_acc: 0.8249\n",
      "Epoch 6/15\n",
      " - 108s - loss: 0.0785 - acc: 0.9726 - val_loss: 0.7566 - val_acc: 0.8215\n",
      "Epoch 7/15\n",
      " - 111s - loss: 0.0629 - acc: 0.9774 - val_loss: 0.8070 - val_acc: 0.8150\n",
      "Epoch 8/15\n",
      " - 109s - loss: 0.0460 - acc: 0.9846 - val_loss: 0.7625 - val_acc: 0.8178\n",
      "Epoch 9/15\n",
      " - 111s - loss: 0.0275 - acc: 0.9907 - val_loss: 0.9576 - val_acc: 0.8162\n",
      "Epoch 10/15\n",
      " - 112s - loss: 0.0291 - acc: 0.9911 - val_loss: 0.8253 - val_acc: 0.8094\n",
      "Epoch 11/15\n",
      " - 112s - loss: 0.0224 - acc: 0.9920 - val_loss: 0.9331 - val_acc: 0.8121\n",
      "Epoch 12/15\n",
      " - 119s - loss: 0.0188 - acc: 0.9941 - val_loss: 1.0980 - val_acc: 0.8118\n",
      "Epoch 13/15\n",
      " - 117s - loss: 0.0172 - acc: 0.9951 - val_loss: 0.9979 - val_acc: 0.8125\n",
      "Epoch 14/15\n",
      " - 118s - loss: 0.0110 - acc: 0.9963 - val_loss: 1.0914 - val_acc: 0.8116\n",
      "Epoch 15/15\n",
      " - 125s - loss: 0.0065 - acc: 0.9979 - val_loss: 1.2403 - val_acc: 0.8043\n"
     ]
    },
    {
     "data": {
      "text/plain": [
       "<keras.callbacks.History at 0x2976204e588>"
      ]
     },
     "execution_count": 15,
     "metadata": {},
     "output_type": "execute_result"
    }
   ],
   "source": [
    "model.fit(X_train, y_train, batch_size=32, epochs=15, verbose=2, validation_data=(X_test, y_test))"
   ]
  },
  {
   "cell_type": "code",
   "execution_count": 16,
   "metadata": {},
   "outputs": [
    {
     "name": "stdout",
     "output_type": "stream",
     "text": [
      "test score:  1.24033502002\n",
      "test accuracy:  0.80432\n"
     ]
    }
   ],
   "source": [
    "score, acc = model.evaluate(X_test, y_test, batch_size=32, verbose=2)\n",
    "print('test score: ', score)\n",
    "print('test accuracy: ', acc)"
   ]
  },
  {
   "cell_type": "code",
   "execution_count": null,
   "metadata": {},
   "outputs": [],
   "source": []
  }
 ],
 "metadata": {
  "kernelspec": {
   "display_name": "Python 3",
   "language": "python",
   "name": "python3"
  },
  "language_info": {
   "codemirror_mode": {
    "name": "ipython",
    "version": 3
   },
   "file_extension": ".py",
   "mimetype": "text/x-python",
   "name": "python",
   "nbconvert_exporter": "python",
   "pygments_lexer": "ipython3",
   "version": "3.5.5"
  }
 },
 "nbformat": 4,
 "nbformat_minor": 2
}
